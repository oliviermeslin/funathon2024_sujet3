{
 "cells": [
  {
   "cell_type": "code",
   "execution_count": null,
   "metadata": {},
   "outputs": [],
   "source": [
    "# Initialiser le client\n",
    "from FlightRadar24 import FlightRadar24API\n",
    "fr_api = FlightRadar24API()"
   ]
  },
  {
   "cell_type": "code",
   "execution_count": null,
   "metadata": {},
   "outputs": [],
   "source": [
    "# Compter les compagnies\n",
    "airlines = fr_api.get_airlines()\n",
    "len(airlines)"
   ]
  },
  {
   "cell_type": "code",
   "execution_count": null,
   "metadata": {},
   "outputs": [],
   "source": [
    "# Compter les zones géographiques\n",
    "zones = fr_api.get_zones()\n",
    "print(\"Il y a \" + str(len(zones)) + \" zones géographiques, parmi lesquelles \"+ ', '.join(list(zones.keys())[0:3]) + '...')"
   ]
  },
  {
   "cell_type": "code",
   "execution_count": null,
   "metadata": {},
   "outputs": [],
   "source": [
    "# Suivre les avions Boeing B77W d'Air France\n",
    "airline_icao = \"AFR\"\n",
    "aircraft_type = \"B77W\"\n",
    "\n",
    "# You may also set a custom region, such as: bounds = \"73,-12,-156,38\"\n",
    "zone = fr_api.get_zones()[\"europe\"]\n",
    "bounds = fr_api.get_bounds(zone)\n",
    "\n",
    "airfrance_flights = fr_api.get_flights(\n",
    "    aircraft_type = aircraft_type,\n",
    "    airline = airline_icao,\n",
    "    bounds = bounds\n",
    ")\n",
    "print(str(len(airfrance_flights)) + \" aéronefs B77W d'Air France sont actuellement en activité en Europe.\")"
   ]
  },
  {
   "cell_type": "code",
   "execution_count": null,
   "metadata": {},
   "outputs": [],
   "source": [
    "# Configurer le client pour récupérer 5 vols\n",
    "flight_tracker = fr_api.get_flight_tracker_config()\n",
    "flight_tracker.limit = 5\n",
    "\n",
    "fr_api.set_flight_tracker_config(flight_tracker)\n",
    "\n",
    "airfrance_flights2 = fr_api.get_flights(\n",
    "    aircraft_type = aircraft_type,\n",
    "    airline = airline_icao,\n",
    "    bounds = bounds\n",
    ")\n",
    "\n",
    "print(f\"On ne récupère plus que {len(airfrance_flights2)} résultats.\")"
   ]
  },
  {
   "cell_type": "code",
   "execution_count": null,
   "metadata": {},
   "outputs": [],
   "source": [
    "# Récupérer des informations détaillées\n",
    "flights = fr_api.get_flights(\n",
    "    aircraft_type = aircraft_type,\n",
    "    airline = airline_icao,\n",
    "    bounds = bounds\n",
    ")\n",
    "\n",
    "for i in range(len(flights)):\n",
    "    flight = flights[i]\n",
    "    flight_details = fr_api.get_flight_details(flight)\n",
    "    flight.set_flight_details(flight_details)\n",
    "    print(f\"Le vol {flight.id} au départ de l'aéroport {flight.origin_airport_name} et à destination de {flight.destination_airport_name} se déplace à une vitesse au solde {flight.ground_speed} noeuds.\")\n"
   ]
  }
 ],
 "metadata": {
  "kernelspec": {
   "display_name": "base",
   "language": "python",
   "name": "python3"
  },
  "language_info": {
   "codemirror_mode": {
    "name": "ipython",
    "version": 3
   },
   "file_extension": ".py",
   "mimetype": "text/x-python",
   "name": "python",
   "nbconvert_exporter": "python",
   "pygments_lexer": "ipython3",
   "version": "3.12.3"
  }
 },
 "nbformat": 4,
 "nbformat_minor": 2
}
