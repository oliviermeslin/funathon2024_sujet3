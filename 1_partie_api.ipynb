{
 "cells": [
  {
   "cell_type": "code",
   "execution_count": null,
   "metadata": {},
   "outputs": [],
   "source": [
    "# Initialiser le client\n",
    "from FlightRadar24 import FlightRadar24API\n",
    "fr_api = FlightRadar24API()"
   ]
  },
  {
   "cell_type": "code",
   "execution_count": null,
   "metadata": {},
   "outputs": [],
   "source": [
    "# Compter les compagnies\n",
    "airlines = fr_api.get_airlines()\n",
    "len(airlines)"
   ]
  },
  {
   "cell_type": "code",
   "execution_count": 30,
   "metadata": {},
   "outputs": [
    {
     "name": "stdout",
     "output_type": "stream",
     "text": [
      "Il y a 9 zones géographiques, parmi lesquelles europe, northamerica, southamerica...\n"
     ]
    }
   ],
   "source": [
    "# Compter les zones géographiques\n",
    "zones = fr_api.get_zones()\n",
    "print(\"Il y a \" + str(len(zones)) + \" zones géographiques, parmi lesquelles \"+ ', '.join(list(zones.keys())[0:3]) + '...')"
   ]
  },
  {
   "cell_type": "code",
   "execution_count": 37,
   "metadata": {},
   "outputs": [
    {
     "name": "stdout",
     "output_type": "stream",
     "text": [
      "6 aéronefs B77W d'Air France sont actuellement en activité en Europe.\n"
     ]
    }
   ],
   "source": [
    "# Suivre les avions Boeing B77W d'Air France\n",
    "airline_icao = \"AFR\"\n",
    "aircraft_type = \"B77W\"\n",
    "\n",
    "# You may also set a custom region, such as: bounds = \"73,-12,-156,38\"\n",
    "zone = fr_api.get_zones()[\"europe\"]\n",
    "bounds = fr_api.get_bounds(zone)\n",
    "\n",
    "airfrance_flights = fr_api.get_flights(\n",
    "    aircraft_type = aircraft_type,\n",
    "    airline = airline_icao,\n",
    "    bounds = bounds\n",
    ")\n",
    "print(str(len(airfrance_flights)) + \" aéronefs B77W d'Air France sont actuellement en activité en Europe.\")"
   ]
  },
  {
   "cell_type": "code",
   "execution_count": null,
   "metadata": {},
   "outputs": [],
   "source": []
  }
 ],
 "metadata": {
  "kernelspec": {
   "display_name": "base",
   "language": "python",
   "name": "python3"
  },
  "language_info": {
   "codemirror_mode": {
    "name": "ipython",
    "version": 3
   },
   "file_extension": ".py",
   "mimetype": "text/x-python",
   "name": "python",
   "nbconvert_exporter": "python",
   "pygments_lexer": "ipython3",
   "version": "3.12.3"
  }
 },
 "nbformat": 4,
 "nbformat_minor": 2
}
